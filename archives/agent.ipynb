{
 "cells": [
  {
   "cell_type": "code",
   "execution_count": 59,
   "id": "e76a39a8",
   "metadata": {},
   "outputs": [],
   "source": [
    "import os\n",
    "from dotenv import load_dotenv\n",
    "from langchain.chat_models import init_chat_model\n",
    "\n",
    "load_dotenv()\n",
    "\n",
    "GROQ_API_KEY = os.getenv(\"GROQ_API_KEY\")"
   ]
  },
  {
   "cell_type": "code",
   "execution_count": null,
   "id": "36832263",
   "metadata": {},
   "outputs": [
    {
     "data": {
      "text/plain": [
       "ChatGroq(client=<groq.resources.chat.completions.Completions object at 0x000001FE19B02690>, async_client=<groq.resources.chat.completions.AsyncCompletions object at 0x000001FE1A3A6B50>, model_name='openai/gpt-oss-120b', model_kwargs={}, groq_api_key=SecretStr('**********'))"
      ]
     },
     "execution_count": 60,
     "metadata": {},
     "output_type": "execute_result"
    }
   ],
   "source": [
    "llm=init_chat_model(\"groq:openai/gpt-oss-120b\")\n",
    "llm"
   ]
  },
  {
   "cell_type": "code",
   "execution_count": null,
   "id": "6d9b65df",
   "metadata": {},
   "outputs": [],
   "source": [
    "def multiply(a:int,b:int)->int:\n",
    "    \"\"\"Multiply a and b\n",
    "\n",
    "    Args:\n",
    "        a (int): first int\n",
    "        b (int): second int\n",
    "\n",
    "    Returns:\n",
    "        int: output int\n",
    "    \"\"\"\n",
    "    return a*b\n",
    "\n",
    "def addition(a:int,b:int)->int:\n",
    "    \"\"\"Addition a and b\n",
    "\n",
    "    Args:\n",
    "        a (int): first int\n",
    "        b (int): second int\n",
    "\n",
    "    Returns:\n",
    "        int: output int\n",
    "    \"\"\"\n",
    "    return a+b\n",
    "\n",
    "def subtraction(a:int,b:int)->int:\n",
    "    \"\"\"Subtract a and b\n",
    "\n",
    "    Args:\n",
    "        a (int): first int\n",
    "        b (int): second int\n",
    "\n",
    "    Returns:\n",
    "        int: output int\n",
    "    \"\"\"\n",
    "    return a-b\n",
    "\n",
    "def division(a:int,b:int)->int:\n",
    "    \"\"\"Divide a and b\n",
    "\n",
    "    Args:\n",
    "        a (int): first int\n",
    "        b (int): second int\n",
    "\n",
    "    Returns:\n",
    "        int: output int\n",
    "    \"\"\"\n",
    "    return a/b\n"
   ]
  },
  {
   "cell_type": "code",
   "execution_count": null,
   "id": "ec1a7939",
   "metadata": {},
   "outputs": [],
   "source": [
    "CALCULATOR_AGENT_PROMPT = \"\"\"\n",
    "You are a Calculator Agent specialized in performing basic arithmetic operations.\n",
    "Your purpose is to accurately compute mathematical expressions when requested.\n",
    "\n",
    "Capabilities:\n",
    "- You can perform addition, subtraction, multiplication, and division on two numbers.\n",
    "- Each operation must follow the exact syntax:\n",
    "  - add(a, b) → returns the sum of a and b\n",
    "  - subtract(a, b) → returns the result of a - b\n",
    "  - multiply(a, b) → returns the product of a and b\n",
    "  - divide(a, b) → returns the result of a / b (handle division by zero gracefully)\n",
    "\n",
    "Instructions:\n",
    "1. Input numbers can be integers or floats.\n",
    "2. If an invalid operation or input is provided, respond with:\n",
    "   \"Error: Invalid operation or input.\"\n",
    "3. Example interactions:\n",
    "   - Input: add(5, 3) → Output: 8\n",
    "   - Input: subtract(10, 7) → Output: 3\n",
    "   - Input: multiply(4, 2.5) → Output: 10.0\n",
    "   - Input: divide(9, 3) → Output: 3.0\n",
    "   - Input: divide(8, 0) → Output: Error: Division by zero.\n",
    "\n",
    "Goal:\n",
    "Provide fast, accurate, and clean arithmetic computation responses with no additional commentary.\n",
    "\"\"\""
   ]
  },
  {
   "cell_type": "code",
   "execution_count": 62,
   "id": "2612f9cb",
   "metadata": {},
   "outputs": [],
   "source": [
    "from langgraph.prebuilt import create_react_agent\n",
    "from langgraph.checkpoint.memory import InMemorySaver\n",
    "\n",
    "checkpointer = InMemorySaver()\n",
    "\n",
    "\n",
    "agent = create_react_agent(\n",
    "    tools=[multiply, addition, subtraction, division],\n",
    "    prompt=\"You are a calculator agent that can perform basic arithmetic operations like addition, subtraction, multiplication and division. Use the following format: 'operation(a,b)' to perform calculations.\",\n",
    "    model=llm,\n",
    "    checkpointer=checkpointer\n",
    ")\n"
   ]
  },
  {
   "cell_type": "code",
   "execution_count": null,
   "id": "4516eaba",
   "metadata": {},
   "outputs": [
    {
     "name": "stdout",
     "output_type": "stream",
     "text": [
      "================================\u001b[1m Human Message \u001b[0m=================================\n",
      "\n",
      "Add 10 and 10, then subtract 5 from it and multiply by 4?\n",
      "==================================\u001b[1m Ai Message \u001b[0m==================================\n",
      "Tool Calls:\n",
      "  addition (fc_6c4ee9d1-6244-44d6-9e43-5792f4ef0f56)\n",
      " Call ID: fc_6c4ee9d1-6244-44d6-9e43-5792f4ef0f56\n",
      "  Args:\n",
      "    a: 10\n",
      "    b: 10\n",
      "=================================\u001b[1m Tool Message \u001b[0m=================================\n",
      "Name: addition\n",
      "\n",
      "20\n",
      "==================================\u001b[1m Ai Message \u001b[0m==================================\n",
      "Tool Calls:\n",
      "  subtraction (fc_e1071706-c1c5-4622-a069-2d58af8a0a64)\n",
      " Call ID: fc_e1071706-c1c5-4622-a069-2d58af8a0a64\n",
      "  Args:\n",
      "    a: 20\n",
      "    b: 5\n",
      "=================================\u001b[1m Tool Message \u001b[0m=================================\n",
      "Name: subtraction\n",
      "\n",
      "15\n",
      "==================================\u001b[1m Ai Message \u001b[0m==================================\n",
      "Tool Calls:\n",
      "  multiply (fc_b6ce5b48-ea90-4c3b-8cfe-1f79ae19ff76)\n",
      " Call ID: fc_b6ce5b48-ea90-4c3b-8cfe-1f79ae19ff76\n",
      "  Args:\n",
      "    a: 15\n",
      "    b: 4\n",
      "=================================\u001b[1m Tool Message \u001b[0m=================================\n",
      "Name: multiply\n",
      "\n",
      "60\n",
      "==================================\u001b[1m Ai Message \u001b[0m==================================\n",
      "\n",
      "The result of the calculation is **60**.\n"
     ]
    }
   ],
   "source": [
    "config = {\"configurable\": {\"thread_id\": \"1\"}}\n",
    "\n",
    "res = agent.invoke(\n",
    "    {\"messages\": [{\"role\": \"user\", \"content\": \"Add 10 and 10, then subtract 5 from it and multiply by 4?\"}]}, \n",
    "    config=config\n",
    ")\n",
    "\n",
    "for message in res[\"messages\"]:\n",
    "    message.pretty_print()"
   ]
  },
  {
   "cell_type": "code",
   "execution_count": 64,
   "id": "d65f5c29",
   "metadata": {},
   "outputs": [],
   "source": [
    "res = agent.invoke(\n",
    "    {\"messages\": [{\"role\": \"user\", \"content\": \"Add 50\"}]}, \n",
    "    config=config\n",
    ")\n",
    "\n"
   ]
  },
  {
   "cell_type": "code",
   "execution_count": 65,
   "id": "410cb695",
   "metadata": {},
   "outputs": [
    {
     "name": "stdout",
     "output_type": "stream",
     "text": [
      "================================\u001b[1m Human Message \u001b[0m=================================\n",
      "\n",
      "Add 10 and 10, then subtract 5 from it and multiply by 4?\n",
      "==================================\u001b[1m Ai Message \u001b[0m==================================\n",
      "Tool Calls:\n",
      "  addition (fc_6c4ee9d1-6244-44d6-9e43-5792f4ef0f56)\n",
      " Call ID: fc_6c4ee9d1-6244-44d6-9e43-5792f4ef0f56\n",
      "  Args:\n",
      "    a: 10\n",
      "    b: 10\n",
      "=================================\u001b[1m Tool Message \u001b[0m=================================\n",
      "Name: addition\n",
      "\n",
      "20\n",
      "==================================\u001b[1m Ai Message \u001b[0m==================================\n",
      "Tool Calls:\n",
      "  subtraction (fc_e1071706-c1c5-4622-a069-2d58af8a0a64)\n",
      " Call ID: fc_e1071706-c1c5-4622-a069-2d58af8a0a64\n",
      "  Args:\n",
      "    a: 20\n",
      "    b: 5\n",
      "=================================\u001b[1m Tool Message \u001b[0m=================================\n",
      "Name: subtraction\n",
      "\n",
      "15\n",
      "==================================\u001b[1m Ai Message \u001b[0m==================================\n",
      "Tool Calls:\n",
      "  multiply (fc_b6ce5b48-ea90-4c3b-8cfe-1f79ae19ff76)\n",
      " Call ID: fc_b6ce5b48-ea90-4c3b-8cfe-1f79ae19ff76\n",
      "  Args:\n",
      "    a: 15\n",
      "    b: 4\n",
      "=================================\u001b[1m Tool Message \u001b[0m=================================\n",
      "Name: multiply\n",
      "\n",
      "60\n",
      "==================================\u001b[1m Ai Message \u001b[0m==================================\n",
      "\n",
      "The result of the calculation is **60**.\n",
      "================================\u001b[1m Human Message \u001b[0m=================================\n",
      "\n",
      "Add 50\n",
      "==================================\u001b[1m Ai Message \u001b[0m==================================\n",
      "Tool Calls:\n",
      "  addition (fc_648707e0-8cca-451b-8c11-5eb74668ece5)\n",
      " Call ID: fc_648707e0-8cca-451b-8c11-5eb74668ece5\n",
      "  Args:\n",
      "    a: 60\n",
      "    b: 50\n",
      "=================================\u001b[1m Tool Message \u001b[0m=================================\n",
      "Name: addition\n",
      "\n",
      "110\n",
      "==================================\u001b[1m Ai Message \u001b[0m==================================\n",
      "\n",
      "The new total is **110**.\n"
     ]
    }
   ],
   "source": [
    "for message in res[\"messages\"]:\n",
    "    message.pretty_print()"
   ]
  }
 ],
 "metadata": {
  "kernelspec": {
   "display_name": "AGENTS",
   "language": "python",
   "name": "python3"
  },
  "language_info": {
   "codemirror_mode": {
    "name": "ipython",
    "version": 3
   },
   "file_extension": ".py",
   "mimetype": "text/x-python",
   "name": "python",
   "nbconvert_exporter": "python",
   "pygments_lexer": "ipython3",
   "version": "3.11.0"
  }
 },
 "nbformat": 4,
 "nbformat_minor": 5
}
